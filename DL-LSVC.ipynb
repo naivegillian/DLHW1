{
 "cells": [
  {
   "cell_type": "markdown",
   "metadata": {},
   "source": [
    "top 1 validation accuracy"
   ]
  },
  {
   "cell_type": "code",
   "execution_count": 1,
   "metadata": {},
   "outputs": [],
   "source": [
    "import os\n",
    "Task_name = 'Assignment1&2 dataset'\n",
    "data_root = \"/home/p88101029/\"\n",
    "raw_data_base = os.path.join(data_root,Task_name)\n",
    "os.makedirs(raw_data_base, exist_ok=True)"
   ]
  },
  {
   "cell_type": "code",
   "execution_count": 21,
   "metadata": {},
   "outputs": [],
   "source": [
    "listoffolder=sorted(os.listdir(raw_data_base), reverse=False)"
   ]
  },
  {
   "cell_type": "markdown",
   "metadata": {},
   "source": [
    "open and save image"
   ]
  },
  {
   "cell_type": "code",
   "execution_count": 22,
   "metadata": {},
   "outputs": [],
   "source": [
    "import cv2\n",
    "import numpy as np\n",
    "from numpy import asarray\n",
    "images = []\n",
    "imagescat = []\n",
    "imagesnames = []\n",
    "for folder in listoffolder:\n",
    "    images_path = os.path.join(raw_data_base,folder)\n",
    "    address = sorted(os.listdir(images_path))\n",
    "    for imgadd in address:\n",
    "        imagescat.append(folder)\n",
    "        imagesnames.append(imgadd)\n",
    "        img=cv2.imread(os.path.join(images_path,imgadd))\n",
    "        images.append(asarray(img))\n"
   ]
  },
  {
   "cell_type": "markdown",
   "metadata": {},
   "source": [
    "transform image to HOG features"
   ]
  },
  {
   "cell_type": "code",
   "execution_count": 23,
   "metadata": {},
   "outputs": [],
   "source": [
    "winSize=(64,64)\n",
    "blockSize=(16,16)\n",
    "blockStride=(8,8)\n",
    "cellSize=(8,8)\n",
    "nbins=9\n",
    "hog = cv2.HOGDescriptor(winSize,blockSize,blockStride,cellSize,nbins)"
   ]
  },
  {
   "cell_type": "code",
   "execution_count": 24,
   "metadata": {},
   "outputs": [],
   "source": [
    "padding=(0,0)\n",
    "winStride=(8, 8)\n",
    "imginhog=[]\n",
    "for i in images:\n",
    "    img=hog.compute(cv2.resize(i,(64,64)), winStride=winStride, padding=padding)\n",
    "    imginhog.append(img)"
   ]
  },
  {
   "cell_type": "code",
   "execution_count": 25,
   "metadata": {},
   "outputs": [],
   "source": [
    "imginhogarr=np.asarray(imginhog).reshape(64225, np.asarray(imginhog).shape[1])\n",
    "imagescatarr=np.asarray(imagescat)"
   ]
  },
  {
   "cell_type": "markdown",
   "metadata": {},
   "source": [
    "save / load features dataset"
   ]
  },
  {
   "cell_type": "code",
   "execution_count": 47,
   "metadata": {},
   "outputs": [],
   "source": [
    "np.save('imginhogarr', imginhogarr)\n",
    "np.save('imagescatarr', imagescatarr)"
   ]
  },
  {
   "cell_type": "code",
   "execution_count": 2,
   "metadata": {},
   "outputs": [],
   "source": [
    "import cv2\n",
    "import numpy as np\n",
    "from numpy import asarray\n",
    "imginhogarr=np.load('imginhogarr.npy')\n",
    "imagescatarr=np.load('imagescatarr.npy')"
   ]
  },
  {
   "cell_type": "markdown",
   "metadata": {},
   "source": [
    "split dataset into train/valid/test"
   ]
  },
  {
   "cell_type": "code",
   "execution_count": 3,
   "metadata": {},
   "outputs": [],
   "source": [
    "from sklearn.model_selection import train_test_split\n",
    "from sklearn.model_selection import PredefinedSplit\n",
    "X_trainvalid, X_test, y_trainvalid, y_test = train_test_split(imginhogarr,imagescatarr, test_size=0.1, random_state=0)\n",
    "#X_train, X_valid, y_train, y_valid = train_test_split(X_trainvalid,y_trainvalid, test_size=0.2, random_state=0)\n",
    "split_index = np.concatenate((np.ones(round(len(y_trainvalid)*0.8))*-1, np.zeros(round(len(y_trainvalid)*0.2))), axis=None)\n",
    "pds = PredefinedSplit(test_fold = split_index)"
   ]
  },
  {
   "cell_type": "markdown",
   "metadata": {},
   "source": [
    "develop LSVC model"
   ]
  },
  {
   "cell_type": "code",
   "execution_count": 6,
   "metadata": {},
   "outputs": [],
   "source": [
    "from sklearn.svm import LinearSVC\n",
    "svm=LinearSVC(penalty=\"l2\", dual = False ,max_iter=10000,random_state=0)"
   ]
  },
  {
   "cell_type": "code",
   "execution_count": 7,
   "metadata": {},
   "outputs": [
    {
     "data": {
      "text/plain": [
       "GridSearchCV(cv=PredefinedSplit(test_fold=array([-1, -1, ...,  0,  0])),\n",
       "             estimator=LinearSVC(dual=False, max_iter=10000, random_state=0),\n",
       "             param_grid={'C': [0.1, 1, 10, 100]}, return_train_score=True,\n",
       "             scoring='accuracy')"
      ]
     },
     "execution_count": 7,
     "metadata": {},
     "output_type": "execute_result"
    }
   ],
   "source": [
    "#fit model\n",
    "from sklearn.model_selection import cross_val_score\n",
    "from sklearn.model_selection import GridSearchCV\n",
    "from sklearn.metrics import accuracy_score\n",
    "clf = GridSearchCV(estimator=svm,cv=pds,scoring='accuracy',param_grid= {'C': [0.1, 1, 10, 100]},return_train_score=True)\n",
    "clf.fit(X_trainvalid, y_trainvalid)"
   ]
  },
  {
   "cell_type": "markdown",
   "metadata": {},
   "source": [
    "check performance"
   ]
  },
  {
   "cell_type": "code",
   "execution_count": 8,
   "metadata": {},
   "outputs": [
    {
     "data": {
      "text/plain": [
       "['mean_fit_time',\n",
       " 'mean_score_time',\n",
       " 'mean_test_score',\n",
       " 'mean_train_score',\n",
       " 'param_C',\n",
       " 'params',\n",
       " 'rank_test_score',\n",
       " 'split0_test_score',\n",
       " 'split0_train_score',\n",
       " 'std_fit_time',\n",
       " 'std_score_time',\n",
       " 'std_test_score',\n",
       " 'std_train_score']"
      ]
     },
     "execution_count": 8,
     "metadata": {},
     "output_type": "execute_result"
    }
   ],
   "source": [
    "sorted(clf.cv_results_.keys())"
   ]
  },
  {
   "cell_type": "code",
   "execution_count": 9,
   "metadata": {},
   "outputs": [
    {
     "data": {
      "text/plain": [
       "array([0.33387397, 0.36213832, 0.36419273, 0.36380347])"
      ]
     },
     "execution_count": 9,
     "metadata": {},
     "output_type": "execute_result"
    }
   ],
   "source": [
    "# top 1 training accuracy\n",
    "clf.cv_results_['mean_train_score']"
   ]
  },
  {
   "cell_type": "code",
   "execution_count": 10,
   "metadata": {},
   "outputs": [
    {
     "data": {
      "text/plain": [
       "array([0.09143599, 0.08269896, 0.08044983, 0.07958478])"
      ]
     },
     "execution_count": 10,
     "metadata": {},
     "output_type": "execute_result"
    }
   ],
   "source": [
    "# top 1 validation accuracy\n",
    "clf.cv_results_['mean_test_score']"
   ]
  },
  {
   "cell_type": "markdown",
   "metadata": {},
   "source": [
    "plot learning curve"
   ]
  },
  {
   "cell_type": "code",
   "execution_count": 19,
   "metadata": {},
   "outputs": [
    {
     "data": {
      "text/plain": [
       "<matplotlib.legend.Legend at 0x7f9fcae148d0>"
      ]
     },
     "execution_count": 19,
     "metadata": {},
     "output_type": "execute_result"
    },
    {
     "data": {
      "image/png": "[encoded data removed]",
      "text/plain": [
       "<Figure size 432x288 with 1 Axes>"
      ]
     },
     "metadata": {
      "needs_background": "light"
     },
     "output_type": "display_data"
    }
   ],
   "source": [
    "import matplotlib.pyplot as plt\n",
    " \n",
    "C = np.asarray([0.1, 1, 10, 100])\n",
    "\n",
    "plt.plot(C, clf.cv_results_['mean_train_score'], 'r', label='Training accuracy')\n",
    "plt.plot(C, clf.cv_results_['mean_test_score'], 'b', label='Validation accuracy')\n",
    "plt.title('Training & Validation Accuracy', fontsize=16)\n",
    "plt.xlabel('C', fontsize=16)\n",
    "plt.ylabel('Accuracy', fontsize=16)\n",
    "plt.xscale('log')\n",
    "plt.legend()"
   ]
  },
  {
   "cell_type": "markdown",
   "metadata": {},
   "source": [
    "check performance"
   ]
  },
  {
   "cell_type": "code",
   "execution_count": 29,
   "metadata": {},
   "outputs": [
    {
     "data": {
      "text/plain": [
       "0.09855207846800561"
      ]
     },
     "execution_count": 29,
     "metadata": {},
     "output_type": "execute_result"
    }
   ],
   "source": [
    "# top 1 testing accuracy\n",
    "np.mean(clf.best_estimator_.predict(X_test)==y_test)"
   ]
  },
  {
   "cell_type": "code",
   "execution_count": null,
   "metadata": {},
   "outputs": [],
   "source": []
  }
 ],
 "metadata": {
  "kernelspec": {
   "display_name": "Python 3",
   "language": "python",
   "name": "python3"
  },
  "language_info": {
   "codemirror_mode": {
    "name": "ipython",
    "version": 3
   },
   "file_extension": ".py",
   "mimetype": "text/x-python",
   "name": "python",
   "nbconvert_exporter": "python",
   "pygments_lexer": "ipython3",
   "version": "3.6.9"
  }
 },
 "nbformat": 4,
 "nbformat_minor": 4
}
