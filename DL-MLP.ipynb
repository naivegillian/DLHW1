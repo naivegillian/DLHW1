{
 "cells": [
  {
   "cell_type": "markdown",
   "metadata": {},
   "source": [
    "set directory"
   ]
  },
  {
   "cell_type": "code",
   "execution_count": 1,
   "metadata": {},
   "outputs": [],
   "source": [
    "import os\n",
    "Task_name = 'Assignment1&2 dataset'\n",
    "data_root = \"/home/p88101029/\"\n",
    "raw_data_base = os.path.join(data_root,Task_name)\n",
    "os.makedirs(raw_data_base, exist_ok=True)"
   ]
  },
  {
   "cell_type": "code",
   "execution_count": 21,
   "metadata": {},
   "outputs": [],
   "source": [
    "listoffolder=sorted(os.listdir(raw_data_base), reverse=False)"
   ]
  },
  {
   "cell_type": "markdown",
   "metadata": {},
   "source": [
    "open and save image"
   ]
  },
  {
   "cell_type": "code",
   "execution_count": 22,
   "metadata": {},
   "outputs": [],
   "source": [
    "import cv2\n",
    "import numpy as np\n",
    "from numpy import asarray\n",
    "images = []\n",
    "imagescat = []\n",
    "imagesnames = []\n",
    "for folder in listoffolder:\n",
    "    images_path = os.path.join(raw_data_base,folder)\n",
    "    address = sorted(os.listdir(images_path))\n",
    "    for imgadd in address:\n",
    "        imagescat.append(folder)\n",
    "        imagesnames.append(imgadd)\n",
    "        img=cv2.imread(os.path.join(images_path,imgadd))\n",
    "        images.append(asarray(img))\n"
   ]
  },
  {
   "cell_type": "markdown",
   "metadata": {},
   "source": [
    "transform image to HOG features"
   ]
  },
  {
   "cell_type": "code",
   "execution_count": 23,
   "metadata": {},
   "outputs": [],
   "source": [
    "winSize=(64,64)\n",
    "blockSize=(16,16)\n",
    "blockStride=(8,8)\n",
    "cellSize=(8,8)\n",
    "nbins=9\n",
    "hog = cv2.HOGDescriptor(winSize,blockSize,blockStride,cellSize,nbins)"
   ]
  },
  {
   "cell_type": "code",
   "execution_count": 24,
   "metadata": {},
   "outputs": [],
   "source": [
    "padding=(0,0)\n",
    "winStride=(8, 8)\n",
    "imginhog=[]\n",
    "for i in images:\n",
    "    img=hog.compute(cv2.resize(i,(64,64)), winStride=winStride, padding=padding)\n",
    "    imginhog.append(img)"
   ]
  },
  {
   "cell_type": "code",
   "execution_count": 25,
   "metadata": {},
   "outputs": [],
   "source": [
    "imginhogarr=np.asarray(imginhog).reshape(64225, np.asarray(imginhog).shape[1])\n",
    "imagescatarr=np.asarray(imagescat)"
   ]
  },
  {
   "cell_type": "markdown",
   "metadata": {},
   "source": [
    "save / load features dataset"
   ]
  },
  {
   "cell_type": "code",
   "execution_count": 47,
   "metadata": {},
   "outputs": [],
   "source": [
    "np.save('imginhogarr', imginhogarr)\n",
    "np.save('imagescatarr', imagescatarr)"
   ]
  },
  {
   "cell_type": "code",
   "execution_count": 49,
   "metadata": {},
   "outputs": [],
   "source": [
    "import cv2\n",
    "import numpy as np\n",
    "from numpy import asarray\n",
    "imginhogarr=np.load('imginhogarr.npy')\n",
    "imagescatarr=np.load('imagescatarr.npy')"
   ]
  },
  {
   "cell_type": "markdown",
   "metadata": {},
   "source": [
    "turn y to one hot vector"
   ]
  },
  {
   "cell_type": "code",
   "execution_count": 51,
   "metadata": {},
   "outputs": [],
   "source": [
    "from sklearn.preprocessing import LabelEncoder\n",
    "from keras.utils import np_utils\n",
    "# encode class values as integers\n",
    "encoder = LabelEncoder()\n",
    "encoder.fit(imagescatarr)\n",
    "encoded_imagescatarr = encoder.transform(imagescatarr)\n",
    "# convert integers to dummy variables (i.e. one hot encoded)\n",
    "imagescatarr = np_utils.to_categorical(encoded_imagescatarr)"
   ]
  },
  {
   "cell_type": "markdown",
   "metadata": {},
   "source": [
    "split dataset into train/valid/test"
   ]
  },
  {
   "cell_type": "code",
   "execution_count": 100,
   "metadata": {},
   "outputs": [],
   "source": [
    "from sklearn.model_selection import train_test_split\n",
    "from sklearn.model_selection import PredefinedSplit\n",
    "X_trainvalid, X_test, y_trainvalid, y_test = train_test_split(imginhogarr,imagescatarr, test_size=0.1, random_state=0)\n",
    "\n",
    "split_indext = np.concatenate((np.ones(round(len(y_trainvalid)*0.8)), np.zeros(round(len(y_trainvalid)*0.2))), axis=None)\n",
    "split_indexv = np.concatenate((np.zeros(round(len(y_trainvalid)*0.8)), np.ones(round(len(y_trainvalid)*0.2))), axis=None)\n"
   ]
  },
  {
   "cell_type": "markdown",
   "metadata": {},
   "source": [
    "develop MLP model"
   ]
  },
  {
   "cell_type": "code",
   "execution_count": 101,
   "metadata": {},
   "outputs": [
    {
     "name": "stdout",
     "output_type": "stream",
     "text": [
      "Epoch 1/100\n",
      "925/925 [==============================] - 4s 4ms/step - loss: 3.8498 - accuracy: 0.0349 - val_loss: 3.7474 - val_accuracy: 0.0473\n",
      "Epoch 2/100\n",
      "925/925 [==============================] - 3s 3ms/step - loss: 3.6867 - accuracy: 0.0628 - val_loss: 3.6248 - val_accuracy: 0.0702\n",
      "Epoch 3/100\n",
      "925/925 [==============================] - 3s 3ms/step - loss: 3.5965 - accuracy: 0.0782 - val_loss: 3.5802 - val_accuracy: 0.0772\n",
      "Epoch 4/100\n",
      "925/925 [==============================] - 3s 3ms/step - loss: 3.5385 - accuracy: 0.0917 - val_loss: 3.5445 - val_accuracy: 0.0864\n",
      "Epoch 5/100\n",
      "925/925 [==============================] - 3s 3ms/step - loss: 3.4850 - accuracy: 0.1033 - val_loss: 3.5017 - val_accuracy: 0.0990\n",
      "Epoch 6/100\n",
      "925/925 [==============================] - 3s 3ms/step - loss: 3.4517 - accuracy: 0.1084 - val_loss: 3.5158 - val_accuracy: 0.0971\n",
      "Epoch 7/100\n",
      "925/925 [==============================] - 3s 3ms/step - loss: 3.4187 - accuracy: 0.1157 - val_loss: 3.4689 - val_accuracy: 0.1080\n",
      "Epoch 8/100\n",
      "925/925 [==============================] - 3s 3ms/step - loss: 3.3886 - accuracy: 0.1201 - val_loss: 3.4843 - val_accuracy: 0.1011\n",
      "Epoch 9/100\n",
      "925/925 [==============================] - 3s 3ms/step - loss: 3.3584 - accuracy: 0.1259 - val_loss: 3.4332 - val_accuracy: 0.1132\n",
      "Epoch 10/100\n",
      "925/925 [==============================] - 3s 3ms/step - loss: 3.3367 - accuracy: 0.1309 - val_loss: 3.4330 - val_accuracy: 0.1146\n",
      "Epoch 11/100\n",
      "925/925 [==============================] - 3s 3ms/step - loss: 3.3129 - accuracy: 0.1349 - val_loss: 3.4341 - val_accuracy: 0.1108\n",
      "Epoch 12/100\n",
      "925/925 [==============================] - 3s 3ms/step - loss: 3.2901 - accuracy: 0.1392 - val_loss: 3.4297 - val_accuracy: 0.1110\n",
      "Epoch 13/100\n",
      "925/925 [==============================] - 3s 3ms/step - loss: 3.2720 - accuracy: 0.1422 - val_loss: 3.4369 - val_accuracy: 0.1113\n",
      "Epoch 14/100\n",
      "925/925 [==============================] - 3s 3ms/step - loss: 3.2481 - accuracy: 0.1483 - val_loss: 3.4417 - val_accuracy: 0.1148\n",
      "Epoch 15/100\n",
      "925/925 [==============================] - 3s 3ms/step - loss: 3.2289 - accuracy: 0.1497 - val_loss: 3.4415 - val_accuracy: 0.1116\n",
      "Epoch 16/100\n",
      "925/925 [==============================] - 3s 3ms/step - loss: 3.2081 - accuracy: 0.1550 - val_loss: 3.4311 - val_accuracy: 0.1161\n",
      "Epoch 17/100\n",
      "925/925 [==============================] - 3s 3ms/step - loss: 3.1864 - accuracy: 0.1578 - val_loss: 3.4184 - val_accuracy: 0.1189\n",
      "Epoch 18/100\n",
      "925/925 [==============================] - 3s 3ms/step - loss: 3.1717 - accuracy: 0.1618 - val_loss: 3.4422 - val_accuracy: 0.1166\n",
      "Epoch 19/100\n",
      "925/925 [==============================] - 3s 3ms/step - loss: 3.1563 - accuracy: 0.1658 - val_loss: 3.4345 - val_accuracy: 0.1151\n",
      "Epoch 20/100\n",
      "925/925 [==============================] - 3s 3ms/step - loss: 3.1345 - accuracy: 0.1717 - val_loss: 3.4583 - val_accuracy: 0.1161\n",
      "Epoch 21/100\n",
      "925/925 [==============================] - 3s 3ms/step - loss: 3.1214 - accuracy: 0.1749 - val_loss: 3.4276 - val_accuracy: 0.1183\n",
      "Epoch 22/100\n",
      "925/925 [==============================] - 3s 3ms/step - loss: 3.1049 - accuracy: 0.1748 - val_loss: 3.4346 - val_accuracy: 0.1193\n",
      "Epoch 23/100\n",
      "925/925 [==============================] - 3s 3ms/step - loss: 3.0901 - accuracy: 0.1815 - val_loss: 3.4503 - val_accuracy: 0.1191\n",
      "Epoch 24/100\n",
      "925/925 [==============================] - 3s 3ms/step - loss: 3.0738 - accuracy: 0.1854 - val_loss: 3.4822 - val_accuracy: 0.1152\n",
      "Epoch 25/100\n",
      "925/925 [==============================] - 3s 3ms/step - loss: 3.0607 - accuracy: 0.1860 - val_loss: 3.4907 - val_accuracy: 0.1151\n",
      "Epoch 26/100\n",
      "925/925 [==============================] - 3s 3ms/step - loss: 3.0463 - accuracy: 0.1897 - val_loss: 3.4427 - val_accuracy: 0.1193\n",
      "Epoch 27/100\n",
      "925/925 [==============================] - 3s 3ms/step - loss: 3.0324 - accuracy: 0.1932 - val_loss: 3.4736 - val_accuracy: 0.1244\n",
      "Epoch 28/100\n",
      "925/925 [==============================] - 3s 3ms/step - loss: 3.0202 - accuracy: 0.1943 - val_loss: 3.4771 - val_accuracy: 0.1205\n",
      "Epoch 29/100\n",
      "925/925 [==============================] - 3s 3ms/step - loss: 3.0079 - accuracy: 0.1979 - val_loss: 3.5088 - val_accuracy: 0.1179\n",
      "Epoch 30/100\n",
      "925/925 [==============================] - 3s 3ms/step - loss: 2.9935 - accuracy: 0.2002 - val_loss: 3.4659 - val_accuracy: 0.1202\n",
      "Epoch 31/100\n",
      "925/925 [==============================] - 3s 3ms/step - loss: 2.9853 - accuracy: 0.2020 - val_loss: 3.5004 - val_accuracy: 0.1221\n",
      "Epoch 32/100\n",
      "925/925 [==============================] - 3s 3ms/step - loss: 2.9708 - accuracy: 0.2028 - val_loss: 3.5076 - val_accuracy: 0.1204\n"
     ]
    }
   ],
   "source": [
    "from keras import models\n",
    "from keras import layers\n",
    "from tensorflow.keras import optimizers\n",
    "from keras.callbacks import EarlyStopping\n",
    "\n",
    "network = models.Sequential()\n",
    "network.add(layers.Dense(545, activation='relu', input_shape=(1764,)))\n",
    "network.add(layers.Dense(165, activation='relu'))\n",
    "network.add(layers.Dense(50, activation='softmax'))\n",
    "\n",
    "network.compile(optimizer='adam',\n",
    "                loss='categorical_crossentropy',\n",
    "                metrics=['accuracy'])\n",
    "\n",
    "earlyStopping = EarlyStopping(monitor='val_loss', patience=15, verbose=0, mode='min')\n",
    "history = network.fit(X_trainvalid[split_indext.astype(bool)], y_trainvalid[split_indext.astype(bool)],\n",
    "                    validation_data=(X_trainvalid[split_indexv.astype(bool)], y_trainvalid[split_indexv.astype(bool)]),\n",
    "                    epochs=100,batch_size=50,callbacks=earlyStopping)"
   ]
  },
  {
   "cell_type": "markdown",
   "metadata": {},
   "source": [
    "plot learning curve"
   ]
  },
  {
   "cell_type": "code",
   "execution_count": 102,
   "metadata": {},
   "outputs": [
    {
     "data": {
      "text/plain": [
       "<matplotlib.legend.Legend at 0x7f6a3585e978>"
      ]
     },
     "execution_count": 102,
     "metadata": {},
     "output_type": "execute_result"
    },
    {
     "data": {
      "image/png": "[encoded data removed]",
      "text/plain": [
       "<Figure size 1008x432 with 2 Axes>"
      ]
     },
     "metadata": {
      "needs_background": "light"
     },
     "output_type": "display_data"
    }
   ],
   "source": [
    "import matplotlib.pyplot as plt\n",
    " \n",
    "history_dict = history.history\n",
    "loss_values = history_dict['loss']\n",
    "val_loss_values = history_dict['val_loss']\n",
    "accuracy = history_dict['accuracy']\n",
    "val_accuracy = history_dict['val_accuracy']\n",
    " \n",
    "epochs = range(1, len(loss_values) + 1)\n",
    "fig, ax = plt.subplots(1, 2, figsize=(14, 6))\n",
    "#\n",
    "# Plot the model accuracy vs Epochs\n",
    "#\n",
    "ax[0].plot(epochs, accuracy, 'r', label='Training accuracy')\n",
    "ax[0].plot(epochs, val_accuracy, 'b', label='Validation accuracy')\n",
    "ax[0].set_title('Training & Validation Accuracy', fontsize=16)\n",
    "ax[0].set_xlabel('Epochs', fontsize=16)\n",
    "ax[0].set_ylabel('Accuracy', fontsize=16)\n",
    "ax[0].legend()\n",
    "#\n",
    "# Plot the loss vs Epochs\n",
    "#\n",
    "ax[1].plot(epochs, loss_values, 'r', label='Training loss')\n",
    "ax[1].plot(epochs, val_loss_values, 'b', label='Validation loss')\n",
    "ax[1].set_title('Training & Validation Loss', fontsize=16)\n",
    "ax[1].set_xlabel('Epochs', fontsize=16)\n",
    "ax[1].set_ylabel('Loss', fontsize=16)\n",
    "ax[1].legend()"
   ]
  },
  {
   "cell_type": "markdown",
   "metadata": {},
   "source": [
    "Comparing predicted vs actual  \n",
    "\n",
    "the code shown here are for validation  \n",
    "\n",
    "change '_trainvalid[split_indexv.astype(bool)]' to '_test' for testing"
   ]
  },
  {
   "cell_type": "code",
   "execution_count": 166,
   "metadata": {},
   "outputs": [],
   "source": [
    "predictions=network.predict(X_trainvalid[split_indexv.astype(bool)])\n",
    "prediction_ = np.argmax(predictions, axis = 1)\n",
    "prediction_ = encoder.inverse_transform(prediction_)\n",
    "actual_ = np.argmax(y_trainvalid[split_indexv.astype(bool)], axis = 1)\n",
    "actual_ = encoder.inverse_transform(actual_)"
   ]
  },
  {
   "cell_type": "code",
   "execution_count": 167,
   "metadata": {},
   "outputs": [
    {
     "data": {
      "text/plain": [
       "0.12041522491349481"
      ]
     },
     "execution_count": 167,
     "metadata": {},
     "output_type": "execute_result"
    }
   ],
   "source": [
    "# top1 accuracy\n",
    "np.mean(prediction_==actual_ )"
   ]
  },
  {
   "cell_type": "code",
   "execution_count": 168,
   "metadata": {},
   "outputs": [
    {
     "data": {
      "text/plain": [
       "array([[29, 28, 46,  7,  8],\n",
       "       [28, 11,  2, 23,  8],\n",
       "       [12, 19, 17, 22, 18],\n",
       "       ...,\n",
       "       [49, 19, 46, 20, 44],\n",
       "       [23,  1, 14, 39,  2],\n",
       "       [16, 19, 14, 12, 22]])"
      ]
     },
     "execution_count": 168,
     "metadata": {},
     "output_type": "execute_result"
    }
   ],
   "source": [
    "maxfive=np.argsort(predictions, axis=1)[:,-5:]\n",
    "maxfive"
   ]
  },
  {
   "cell_type": "code",
   "execution_count": 172,
   "metadata": {},
   "outputs": [
    {
     "data": {
      "text/plain": [
       "array([[ 7],\n",
       "       [ 0],\n",
       "       [14],\n",
       "       ...,\n",
       "       [33],\n",
       "       [34],\n",
       "       [ 2]])"
      ]
     },
     "execution_count": 172,
     "metadata": {},
     "output_type": "execute_result"
    }
   ],
   "source": [
    "actual= np.argmax(y_trainvalid[split_indexv.astype(bool)], axis = 1).reshape(-1,1)\n",
    "actual"
   ]
  },
  {
   "cell_type": "code",
   "execution_count": 173,
   "metadata": {},
   "outputs": [
    {
     "data": {
      "text/plain": [
       "0.36972318339100346"
      ]
     },
     "execution_count": 173,
     "metadata": {},
     "output_type": "execute_result"
    }
   ],
   "source": [
    "# top5 accuracy\n",
    "np.mean((actual==maxfive).sum(-1))"
   ]
  },
  {
   "cell_type": "code",
   "execution_count": null,
   "metadata": {},
   "outputs": [],
   "source": []
  }
 ],
 "metadata": {
  "kernelspec": {
   "display_name": "Python 3",
   "language": "python",
   "name": "python3"
  },
  "language_info": {
   "codemirror_mode": {
    "name": "ipython",
    "version": 3
   },
   "file_extension": ".py",
   "mimetype": "text/x-python",
   "name": "python",
   "nbconvert_exporter": "python",
   "pygments_lexer": "ipython3",
   "version": "3.6.9"
  }
 },
 "nbformat": 4,
 "nbformat_minor": 4
}
